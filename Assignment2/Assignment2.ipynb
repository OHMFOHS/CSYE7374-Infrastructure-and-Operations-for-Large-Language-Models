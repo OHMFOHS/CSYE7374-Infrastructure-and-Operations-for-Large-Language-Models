{
  "cells": [
    {
      "cell_type": "markdown",
      "id": "44bc8ab7-5560-4254-9316-e2455c248245",
      "metadata": {
        "id": "44bc8ab7-5560-4254-9316-e2455c248245"
      },
      "source": [
        "# 1. Import Dependencies"
      ]
    },
    {
      "cell_type": "code",
      "execution_count": 97,
      "id": "8c790c5c-51fc-49e3-8310-301011870e76",
      "metadata": {
        "id": "8c790c5c-51fc-49e3-8310-301011870e76"
      },
      "outputs": [],
      "source": [
        "from datasets import load_dataset # Hugging Face library for accessing and streaming large public text datasets\n",
        "from transformers import AutoTokenizer # Provides transformer-compatible tokenizers\n",
        "from torch.utils.data import Dataset, DataLoader # PyTorch utilities for building custom datasets and data loaders\n",
        "from torch.nn.utils.rnn import pad_sequence # Function to pad variable-length sequences in a batch to the same length\n",
        "from tqdm import tqdm # Progress-bar library for displaying iteration progress in loops\n",
        "import torch, regex as re, unicodedata # PyTorch core library\n",
        "import torch\n",
        "import torch.nn as nn\n",
        "from torch.utils.data import Dataset, DataLoader\n",
        "import numpy as np\n",
        "# regex: advanced regular-expression library used for text cleaning and normalization\n",
        "# unicodedata: handles Unicode normalization to ensure consistent text representation"
      ]
    },
    {
      "cell_type": "markdown",
      "id": "ed51b3ec-1899-496c-9874-779ed978bc17",
      "metadata": {
        "id": "ed51b3ec-1899-496c-9874-779ed978bc17"
      },
      "source": [
        "# 2. Dataset processing pipeline"
      ]
    },
    {
      "cell_type": "markdown",
      "id": "444232c0-933c-4549-8110-fffe2c623cb0",
      "metadata": {
        "id": "444232c0-933c-4549-8110-fffe2c623cb0"
      },
      "source": [
        "## Collect Data from hugging face"
      ]
    },
    {
      "cell_type": "code",
      "execution_count": 98,
      "id": "10d01330-5c5f-478a-a328-5e343331703c",
      "metadata": {
        "colab": {
          "base_uri": "https://localhost:8080/",
          "height": 113,
          "referenced_widgets": [
            "24ae87bc77eb4904afa20f6625bcc4c7",
            "1503e8d36705488eb6427fb9d60f727b",
            "a0c174b0a77b434f951771679a193018",
            "43c64c4ec6044e26b20ada12a49971b4",
            "757f896b662d498d869ed10e1ec22780",
            "9434d57c355f4ccc938395221e5177ef",
            "806d9eca50724d81ae7fb18e9cb6eedf",
            "79beb9795e4d495b9680c8859e71ba80",
            "aedfefc61f254b18817ddd2583279f9a",
            "8f36224e340c4c87b1acdbb118faf4e2",
            "0edef9d36a494968986b00ba95016955",
            "ef1f63c27ea14e4fab8e01a31ad998d5",
            "a82f024a72a04235b526208d34400dfd",
            "b369c3c47e1345cab758929e5959207b",
            "688ef5ff690c49c0b40de8f99385eede",
            "6e26b687c8cc4635a5ae29babea84ce5",
            "22bebddc5cf846229e36bcb624c15bc8",
            "c2e48dc059644d4dbfd51689f8b21425",
            "a79f2367a21546db8bc294ae8fe845ee",
            "fb4bb55593ce423d99f2833e805c67e9",
            "c9d2216b2c224bd5afb6214058f4348d",
            "28a8102049494eb290a841042c28d4e5",
            "0d6d4c9b63d14794901a5832483ce224",
            "7312f9cad63e4228833898f5a6810cd4",
            "ac364f8ef10e4e7abeaa74a372a11dfb",
            "76b24b15b3f04af0ba21abe107386c6e",
            "de053ff6a7fc42788d81a8c02b065b95",
            "513c80d726684cb6bab2ee503678eeb8",
            "24e9c7b2e76d41218741cdf08ec3cf9c",
            "fddee9571daa45d388262b2e06d2dab5",
            "c16d7ffcfc8d43cea0e5e95e697494f7",
            "5a66ba51c6d94c26abea54519f181f3b",
            "518e24f5b83a4910ab33f440946a05d7"
          ]
        },
        "id": "10d01330-5c5f-478a-a328-5e343331703c",
        "outputId": "06deb0ac-c4ca-4e7e-a3f8-1cee00b9904b"
      },
      "outputs": [
        {
          "output_type": "display_data",
          "data": {
            "text/plain": [
              "Resolving data files:   0%|          | 0/41 [00:00<?, ?it/s]"
            ],
            "application/vnd.jupyter.widget-view+json": {
              "version_major": 2,
              "version_minor": 0,
              "model_id": "24ae87bc77eb4904afa20f6625bcc4c7"
            }
          },
          "metadata": {}
        },
        {
          "output_type": "display_data",
          "data": {
            "text/plain": [
              "Resolving data files:   0%|          | 0/2410 [00:00<?, ?it/s]"
            ],
            "application/vnd.jupyter.widget-view+json": {
              "version_major": 2,
              "version_minor": 0,
              "model_id": "ef1f63c27ea14e4fab8e01a31ad998d5"
            }
          },
          "metadata": {}
        },
        {
          "output_type": "display_data",
          "data": {
            "text/plain": [
              "Resolving data files:   0%|          | 0/2410 [00:00<?, ?it/s]"
            ],
            "application/vnd.jupyter.widget-view+json": {
              "version_major": 2,
              "version_minor": 0,
              "model_id": "0d6d4c9b63d14794901a5832483ce224"
            }
          },
          "metadata": {}
        }
      ],
      "source": [
        "wiki = load_dataset(\"wikimedia/wikipedia\", \"20231101.en\", split=\"train\", streaming=True)\n",
        "# Load the English Wikipedia dataset (March 2022 dump) from the Hugging Face Hub.\n",
        "owt = load_dataset(\"HuggingFaceFW/fineweb-edu\", split=\"train\", streaming=True)\n",
        "# Load the OpenWebText dataset — a large collection of web pages\n",
        "texts = []\n",
        "# Create an empty list to hold text samples collected from both datasets."
      ]
    },
    {
      "cell_type": "markdown",
      "id": "da3a191a-728a-47f3-bc3b-c1d356f496ea",
      "metadata": {
        "id": "da3a191a-728a-47f3-bc3b-c1d356f496ea"
      },
      "source": [
        "## Collect sample from each dataset"
      ]
    },
    {
      "cell_type": "code",
      "execution_count": 99,
      "id": "515e5e04-d50c-4e1a-927d-175c64dbcb0b",
      "metadata": {
        "colab": {
          "base_uri": "https://localhost:8080/"
        },
        "id": "515e5e04-d50c-4e1a-927d-175c64dbcb0b",
        "outputId": "2770b08c-7cea-4703-f516-abe488d2deae"
      },
      "outputs": [
        {
          "output_type": "stream",
          "name": "stdout",
          "text": [
            "get 512 documents\n"
          ]
        }
      ],
      "source": [
        "for i,t in enumerate(wiki):\n",
        "    texts.append(t[\"text\"])\n",
        "    if i >= 255:\n",
        "        break\n",
        "for i,t in enumerate(owt):\n",
        "    texts.append(t[\"text\"])\n",
        "    if i >= 255:\n",
        "        break\n",
        "print(f\"get {len(texts)} documents\")"
      ]
    },
    {
      "cell_type": "markdown",
      "id": "ddd72040-3b3a-4b83-982d-8f439abd2165",
      "metadata": {
        "id": "ddd72040-3b3a-4b83-982d-8f439abd2165"
      },
      "source": [
        "## Cleaning and Normalization"
      ]
    },
    {
      "cell_type": "code",
      "execution_count": 100,
      "id": "e70bfa2b-93d2-41d8-98e2-98dae039b679",
      "metadata": {
        "colab": {
          "base_uri": "https://localhost:8080/"
        },
        "id": "e70bfa2b-93d2-41d8-98e2-98dae039b679",
        "outputId": "0df879c4-bf3d-4244-c7cb-a3fad8a48dac"
      },
      "outputs": [
        {
          "output_type": "stream",
          "name": "stdout",
          "text": [
            "After cleaning: 511 unique documents\n"
          ]
        }
      ],
      "source": [
        "#Normalize and clean a raw text string.\n",
        "def clean_text(t: str) -> str:\n",
        "    \"\"\"Normalize text: lowercase, remove HTML, extra whitespace, long repeats.\"\"\"\n",
        "    t = unicodedata.normalize(\"NFKC\", t)    # normalize unicode form\n",
        "    t = t.lower()                           # convert to lowercase\n",
        "    t = re.sub(r\"<[^>]+>\", \" \", t)          # remove HTML tags\n",
        "    t = re.sub(r\"\\s+\", \" \", t).strip()      # collapse spaces\n",
        "    t = re.sub(r\"(.)\\1{4,}\", r\"\\1\\1\\1\", t)  # compress long repeats\n",
        "    return t\n",
        "\n",
        "#Initialize an empty list for cleaned documents, and a set to keep track of seen texts\n",
        "cleaned, seen = [], set()\n",
        "\n",
        "for txt in texts:\n",
        "    # Skip empty or very short documents (< 50 words)\n",
        "    if not txt or len(txt.split()) < 50:\n",
        "        continue\n",
        "    txt = clean_text(txt)\n",
        "    if txt in seen:\n",
        "        continue\n",
        "    seen.add(txt)\n",
        "    cleaned.append(txt)\n",
        "print(f\"After cleaning: {len(cleaned)} unique documents\")"
      ]
    },
    {
      "cell_type": "markdown",
      "id": "fcb376a7-fe58-4ea0-b244-99057457bf2c",
      "metadata": {
        "id": "fcb376a7-fe58-4ea0-b244-99057457bf2c"
      },
      "source": [
        "## Tokenization and chunking"
      ]
    },
    {
      "cell_type": "code",
      "execution_count": 101,
      "id": "180396c1-22d7-4890-b27d-484c68d8ccfe",
      "metadata": {
        "colab": {
          "base_uri": "https://localhost:8080/"
        },
        "id": "180396c1-22d7-4890-b27d-484c68d8ccfe",
        "outputId": "7f814eeb-4fd9-4601-f1a5-f2e6de766281"
      },
      "outputs": [
        {
          "output_type": "stream",
          "name": "stderr",
          "text": [
            "Tokenizing:   0%|          | 0/511 [00:00<?, ?it/s]Token indices sequence length is longer than the specified maximum sequence length for this model (8524 > 1024). Running this sequence through the model will result in indexing errors\n",
            "Tokenizing: 100%|██████████| 511/511 [00:05<00:00, 91.68it/s] "
          ]
        },
        {
          "output_type": "stream",
          "name": "stdout",
          "text": [
            "Created 15305 tokenized chunks\n"
          ]
        },
        {
          "output_type": "stream",
          "name": "stderr",
          "text": [
            "\n"
          ]
        }
      ],
      "source": [
        "# Load a pretrained GPT-2 tokenizer from the Hugging Face Transformers library.\n",
        "tokenizer = AutoTokenizer.from_pretrained(\"gpt2\")\n",
        "\n",
        "# Padding tokens are needed when batching sequences of different lengths.\n",
        "# Here we assign the padding token to be the same as the EOS\n",
        "if tokenizer.pad_token is None:\n",
        "    tokenizer.pad_token = tokenizer.eos_token\n",
        "\n",
        "# Define the maximum sequence length\n",
        "block_size = 128\n",
        "# Initialize an empty list to store tokenized blocks (lists of token IDs).\n",
        "tokenized_blocks = []\n",
        "\n",
        "# Iterate through each cleaned document and tokenize it.\n",
        "# tqdm provides a progress bar for monitoring the tokenization process.\n",
        "for t in tqdm(cleaned, desc=\"Tokenizing\"):\n",
        "    # Convert text to a list of integer token IDs.\n",
        "    ids = tokenizer.encode(t, add_special_tokens=False)\n",
        "\n",
        "    # Append the EOS token ID at the end of each document, to indicate the end of a sequence.\n",
        "    ids.append(tokenizer.eos_token_id)\n",
        "\n",
        "    # If a document is longer than block_size, we split it into consecutive chunks of equal length\n",
        "    # This ensures each training sample fits within the model's maximum context window.\n",
        "    for i in range(0, len(ids), block_size):\n",
        "        tokenized_blocks.append(ids[i:i+block_size])\n",
        "\n",
        "print(f\"Created {len(tokenized_blocks)} tokenized chunks\")"
      ]
    },
    {
      "cell_type": "markdown",
      "id": "ba0fd2cd-eda4-4c9c-9d4f-de69f8cb00d8",
      "metadata": {
        "id": "ba0fd2cd-eda4-4c9c-9d4f-de69f8cb00d8"
      },
      "source": [
        "## Split to train/test"
      ]
    },
    {
      "cell_type": "code",
      "execution_count": 102,
      "id": "fd9c0f30-f44c-4cb4-acfc-4eb366f9a5b2",
      "metadata": {
        "id": "fd9c0f30-f44c-4cb4-acfc-4eb366f9a5b2"
      },
      "outputs": [],
      "source": [
        "# Split into train/val\n",
        "split = int(0.9 * len(tokenized_blocks))\n",
        "train_ids = tokenized_blocks[:split]\n",
        "val_ids = tokenized_blocks[split:]\n",
        "\n",
        "# Save them\n",
        "np.save(\"train.npy\", np.array(train_ids, dtype=object), allow_pickle=True)\n",
        "np.save(\"val.npy\",   np.array(val_ids,   dtype=object), allow_pickle=True)"
      ]
    },
    {
      "cell_type": "markdown",
      "id": "6276a4b1-d752-4864-8477-678e020323a6",
      "metadata": {
        "id": "6276a4b1-d752-4864-8477-678e020323a6"
      },
      "source": [
        "# 3. Model Implementation"
      ]
    },
    {
      "cell_type": "markdown",
      "id": "bae17ba6-a0ea-42be-857c-2002ae6ae7fc",
      "metadata": {
        "id": "bae17ba6-a0ea-42be-857c-2002ae6ae7fc"
      },
      "source": [
        "## Build mini-GPT"
      ]
    },
    {
      "cell_type": "code",
      "execution_count": 103,
      "id": "8157cd99-f4c9-4f0b-9021-0926126ab5bc",
      "metadata": {
        "id": "8157cd99-f4c9-4f0b-9021-0926126ab5bc"
      },
      "outputs": [],
      "source": [
        "class MiniGPT(nn.Module):\n",
        "    def __init__(self, vocab_size, block_size=128, d_model=128, n_heads=4, n_layers=2):\n",
        "        super().__init__()\n",
        "        self.tok_emb = nn.Embedding(vocab_size, d_model)\n",
        "        self.pos_emb = nn.Embedding(block_size, d_model)\n",
        "        self.layers = nn.ModuleList([\n",
        "            nn.TransformerEncoderLayer(\n",
        "                d_model,\n",
        "                n_heads,\n",
        "                4 * d_model,\n",
        "                activation='gelu',\n",
        "                batch_first=True\n",
        "            )\n",
        "            for _ in range(n_layers)\n",
        "        ])\n",
        "        self.ln = nn.LayerNorm(d_model)\n",
        "        self.head = nn.Linear(d_model, vocab_size)\n",
        "        self.block_size = block_size\n",
        "\n",
        "    def forward(self, x):\n",
        "      B, T = x.shape\n",
        "      pos = torch.arange(T, device=x.device)\n",
        "      x = self.tok_emb(x) + self.pos_emb(pos)\n",
        "\n",
        "      mask = torch.tril(torch.ones(T, T, device=x.device))\n",
        "      mask = mask.masked_fill(mask == 0, float('-inf')).masked_fill(mask == 1, 0.0)\n",
        "\n",
        "      for layer in self.layers:\n",
        "          x = layer(x, src_mask=mask)\n",
        "\n",
        "      x = self.ln(x)\n",
        "      logits = self.head(x)\n",
        "      return logits\n",
        "\n"
      ]
    },
    {
      "cell_type": "markdown",
      "id": "7d768c6f-ed97-4a65-a843-6f99d8f5ca0b",
      "metadata": {
        "id": "7d768c6f-ed97-4a65-a843-6f99d8f5ca0b"
      },
      "source": [
        "## Load Data for Training"
      ]
    },
    {
      "cell_type": "code",
      "execution_count": 104,
      "id": "ae6b3148-4819-4379-9ad3-3ae3b53f1932",
      "metadata": {
        "id": "ae6b3148-4819-4379-9ad3-3ae3b53f1932"
      },
      "outputs": [],
      "source": [
        "from torch.utils.data import Dataset, DataLoader\n",
        "from torch.nn.utils.rnn import pad_sequence\n",
        "\n",
        "# Custom dataset class\n",
        "class TokenDataset(Dataset):\n",
        "    def __init__(self, blocks):\n",
        "        # Convert each token list to a torch tensor\n",
        "        self.blocks = [torch.tensor(b, dtype=torch.long) for b in blocks]\n",
        "\n",
        "    def __len__(self):\n",
        "        return len(self.blocks)\n",
        "\n",
        "    def __getitem__(self, i):\n",
        "        x = self.blocks[i][:-1]  # input tokens\n",
        "        y = self.blocks[i][1:]   # next-token targets\n",
        "        return x, y\n",
        "\n",
        "\n",
        "# Custom collate function for padding\n",
        "def collate_batch(batch):\n",
        "    xs, ys = zip(*batch)\n",
        "    pad_id = tokenizer.pad_token_id  # pad with eos_token if needed\n",
        "    xs = pad_sequence(xs, batch_first=True, padding_value=pad_id)\n",
        "    ys = pad_sequence(ys, batch_first=True, padding_value=pad_id)\n",
        "    return xs, ys\n",
        "\n",
        "\n",
        "# Load saved tokenized data\n",
        "train_ids = np.load(\"train.npy\", allow_pickle=True)\n",
        "val_ids   = np.load(\"val.npy\", allow_pickle=True)\n",
        "\n",
        "# Use collate_fn here!\n",
        "train_loader = DataLoader(\n",
        "    TokenDataset(train_ids),\n",
        "    batch_size=32,\n",
        "    shuffle=True,\n",
        "    collate_fn=collate_batch\n",
        ")\n",
        "\n",
        "val_loader = DataLoader(\n",
        "    TokenDataset(val_ids),\n",
        "    batch_size=64,\n",
        "    collate_fn=collate_batch\n",
        ")\n"
      ]
    },
    {
      "cell_type": "code",
      "source": [
        "import torch\n",
        "print(\"CUDA available:\", torch.cuda.is_available())\n",
        "if torch.cuda.is_available():\n",
        "    print(\"GPU:\", torch.cuda.get_device_name(0))\n"
      ],
      "metadata": {
        "id": "Sibg5CIiLwWA",
        "outputId": "b0748aa7-b76c-42ec-dcbf-b5cf92e192b1",
        "colab": {
          "base_uri": "https://localhost:8080/"
        }
      },
      "id": "Sibg5CIiLwWA",
      "execution_count": 105,
      "outputs": [
        {
          "output_type": "stream",
          "name": "stdout",
          "text": [
            "CUDA available: True\n",
            "GPU: Tesla T4\n"
          ]
        }
      ]
    },
    {
      "cell_type": "markdown",
      "id": "fd99658f-c474-40d1-a149-8554bca3cb29",
      "metadata": {
        "id": "fd99658f-c474-40d1-a149-8554bca3cb29"
      },
      "source": [
        "## Model training"
      ]
    },
    {
      "cell_type": "code",
      "execution_count": 106,
      "id": "f7d1ef88-a511-4f66-b51a-6ea4c2466fed",
      "metadata": {
        "colab": {
          "base_uri": "https://localhost:8080/"
        },
        "id": "f7d1ef88-a511-4f66-b51a-6ea4c2466fed",
        "outputId": "c0049996-fd29-4426-8b0f-51dbc6b0b97c"
      },
      "outputs": [
        {
          "output_type": "stream",
          "name": "stderr",
          "text": [
            "Epoch 1/5: 100%|██████████| 431/431 [00:40<00:00, 10.58it/s, batch_loss=6.8819]\n"
          ]
        },
        {
          "output_type": "stream",
          "name": "stdout",
          "text": [
            "\n",
            "Epoch 1: Train=7.4779, Val=7.2010, PPL=1340.81\n"
          ]
        },
        {
          "output_type": "stream",
          "name": "stderr",
          "text": [
            "Epoch 2/5: 100%|██████████| 431/431 [00:38<00:00, 11.18it/s, batch_loss=6.8068]\n"
          ]
        },
        {
          "output_type": "stream",
          "name": "stdout",
          "text": [
            "\n",
            "Epoch 2: Train=6.6148, Val=6.8783, PPL=971.00\n"
          ]
        },
        {
          "output_type": "stream",
          "name": "stderr",
          "text": [
            "Epoch 3/5: 100%|██████████| 431/431 [00:40<00:00, 10.73it/s, batch_loss=6.1704]\n"
          ]
        },
        {
          "output_type": "stream",
          "name": "stdout",
          "text": [
            "\n",
            "Epoch 3: Train=6.2197, Val=6.7306, PPL=837.68\n"
          ]
        },
        {
          "output_type": "stream",
          "name": "stderr",
          "text": [
            "Epoch 4/5: 100%|██████████| 431/431 [00:38<00:00, 11.05it/s, batch_loss=6.0755]\n"
          ]
        },
        {
          "output_type": "stream",
          "name": "stdout",
          "text": [
            "\n",
            "Epoch 4: Train=5.9571, Val=6.6482, PPL=771.43\n"
          ]
        },
        {
          "output_type": "stream",
          "name": "stderr",
          "text": [
            "Epoch 5/5: 100%|██████████| 431/431 [00:39<00:00, 10.85it/s, batch_loss=5.7464]\n"
          ]
        },
        {
          "output_type": "stream",
          "name": "stdout",
          "text": [
            "\n",
            "Epoch 5: Train=5.7577, Val=6.5886, PPL=726.77\n"
          ]
        }
      ],
      "source": [
        "import torch.nn.functional as F\n",
        "import math\n",
        "from tqdm import tqdm  # progress bar library\n",
        "import os\n",
        "\n",
        "os.makedirs(\"checkpoints\", exist_ok=True)\n",
        "\n",
        "\n",
        "device = \"cuda\" if torch.cuda.is_available() else \"cpu\"\n",
        "pad_token_id = tokenizer.pad_token_id\n",
        "\n",
        "model = MiniGPT(vocab_size=tokenizer.vocab_size).to(device)\n",
        "optimizer = torch.optim.AdamW(model.parameters(), lr=5e-4)\n",
        "\n",
        "# Evaluation loop with progress bar\n",
        "def evaluate(loader):\n",
        "    model.eval()\n",
        "    losses = []\n",
        "    with torch.no_grad():\n",
        "        for x, y in tqdm(loader, desc=\"Evaluating\", leave=False):\n",
        "            x, y = x.to(device), y.to(device)\n",
        "            logits = model(x)\n",
        "            loss = F.cross_entropy(\n",
        "                logits.view(-1, logits.size(-1)),\n",
        "                y.view(-1),\n",
        "                ignore_index=pad_token_id\n",
        "            )\n",
        "            losses.append(loss.item())\n",
        "    return sum(losses) / len(losses)\n",
        "\n",
        "\n",
        "# Training loop with progress bar\n",
        "train_losses, val_losses = [], []\n",
        "epochs = 5\n",
        "\n",
        "for epoch in range(epochs):\n",
        "    model.train()\n",
        "    total = 0\n",
        "\n",
        "    # tqdm progress bar for each epoch\n",
        "    progress_bar = tqdm(train_loader, desc=f\"Epoch {epoch+1}/{epochs}\", leave=True)\n",
        "    for x, y in progress_bar:\n",
        "        x, y = x.to(device), y.to(device)\n",
        "        optimizer.zero_grad()\n",
        "        logits = model(x)\n",
        "        loss = F.cross_entropy(\n",
        "            logits.view(-1, logits.size(-1)),\n",
        "            y.view(-1),\n",
        "            ignore_index=pad_token_id\n",
        "        )\n",
        "        loss.backward()\n",
        "\n",
        "        optimizer.step()\n",
        "        total += loss.item()\n",
        "\n",
        "        # show running loss in progress bar\n",
        "        progress_bar.set_postfix({\"batch_loss\": f\"{loss.item():.4f}\"})\n",
        "\n",
        "    # evaluate after each epoch\n",
        "    avg_train = total / len(train_loader)\n",
        "    avg_val = evaluate(val_loader)\n",
        "    ppl = math.exp(avg_val)\n",
        "\n",
        "    print(f\"\\nEpoch {epoch+1}: Train={avg_train:.4f}, Val={avg_val:.4f}, PPL={ppl:.2f}\")\n",
        "    torch.save(model.state_dict(), f\"checkpoints/mini_gpt_epoch{epoch+1}.pt\")\n",
        "\n",
        "    train_losses.append(avg_train)\n",
        "    val_losses.append(avg_val)\n"
      ]
    },
    {
      "cell_type": "markdown",
      "id": "562d93af-e941-49e3-994a-1c81fb8160be",
      "metadata": {
        "id": "562d93af-e941-49e3-994a-1c81fb8160be"
      },
      "source": [
        "# Result"
      ]
    },
    {
      "cell_type": "code",
      "execution_count": 107,
      "id": "94c34ff7-cc36-4072-a7e4-0a74d209d4c1",
      "metadata": {
        "id": "94c34ff7-cc36-4072-a7e4-0a74d209d4c1",
        "colab": {
          "base_uri": "https://localhost:8080/",
          "height": 887
        },
        "outputId": "e6990d96-1906-415a-e37e-9396960bb3df"
      },
      "outputs": [
        {
          "output_type": "display_data",
          "data": {
            "text/plain": [
              "<Figure size 640x480 with 1 Axes>"
            ],
            "image/png": "[encoded data removed]"
          },
          "metadata": {}
        },
        {
          "output_type": "display_data",
          "data": {
            "text/plain": [
              "<Figure size 640x480 with 1 Axes>"
            ],
            "image/png": "[encoded data removed]"
          },
          "metadata": {}
        }
      ],
      "source": [
        "import matplotlib.pyplot as plt, numpy as np\n",
        "plt.plot(train_losses, label='Train Loss')\n",
        "plt.plot(val_losses, label='Val Loss')\n",
        "plt.legend(); plt.title('Training vs Validation Loss'); plt.show()\n",
        "\n",
        "plt.plot(np.exp(val_losses)); plt.title('Validation Perplexity'); plt.show()"
      ]
    },
    {
      "cell_type": "code",
      "source": [
        "#!ls -lh checkpoints/"
      ],
      "metadata": {
        "id": "BNb3z0knb0bU"
      },
      "id": "BNb3z0knb0bU",
      "execution_count": 108,
      "outputs": []
    },
    {
      "cell_type": "code",
      "source": [
        "#!zip -r mini_gpt_checkpoints.zip checkpoints/\n",
        "#from google.colab import files\n",
        "#files.download(\"mini_gpt_checkpoints.zip\")\n"
      ],
      "metadata": {
        "id": "RMsJtDnqcP2T"
      },
      "id": "RMsJtDnqcP2T",
      "execution_count": 109,
      "outputs": []
    }
  ],
  "metadata": {
    "kernelspec": {
      "display_name": "Python 3",
      "name": "python3"
    },
    "language_info": {
      "codemirror_mode": {
        "name": "ipython",
        "version": 3
      },
      "file_extension": ".py",
      "mimetype": "text/x-python",
      "name": "python",
      "nbconvert_exporter": "python",
      "pygments_lexer": "ipython3",
      "version": "3.8.20"
    },
    "colab": {
      "provenance": [],
      "gpuType": "T4"
    },
    "widgets": {
      "application/vnd.jupyter.widget-state+json": {
        "24ae87bc77eb4904afa20f6625bcc4c7": {
          "model_module": "@jupyter-widgets/controls",
          "model_name": "HBoxModel",
          "model_module_version": "1.5.0",
          "state": {
            "_dom_classes": [],
            "_model_module": "@jupyter-widgets/controls",
            "_model_module_version": "1.5.0",
            "_model_name": "HBoxModel",
            "_view_count": null,
            "_view_module": "@jupyter-widgets/controls",
            "_view_module_version": "1.5.0",
            "_view_name": "HBoxView",
            "box_style": "",
            "children": [
              "IPY_MODEL_1503e8d36705488eb6427fb9d60f727b",
              "IPY_MODEL_a0c174b0a77b434f951771679a193018",
              "IPY_MODEL_43c64c4ec6044e26b20ada12a49971b4"
            ],
            "layout": "IPY_MODEL_757f896b662d498d869ed10e1ec22780"
          }
        },
        "1503e8d36705488eb6427fb9d60f727b": {
          "model_module": "@jupyter-widgets/controls",
          "model_name": "HTMLModel",
          "model_module_version": "1.5.0",
          "state": {
            "_dom_classes": [],
            "_model_module": "@jupyter-widgets/controls",
            "_model_module_version": "1.5.0",
            "_model_name": "HTMLModel",
            "_view_count": null,
            "_view_module": "@jupyter-widgets/controls",
            "_view_module_version": "1.5.0",
            "_view_name": "HTMLView",
            "description": "",
            "description_tooltip": null,
            "layout": "IPY_MODEL_9434d57c355f4ccc938395221e5177ef",
            "placeholder": "​",
            "style": "IPY_MODEL_806d9eca50724d81ae7fb18e9cb6eedf",
            "value": "Resolving data files: 100%"
          }
        },
        "a0c174b0a77b434f951771679a193018": {
          "model_module": "@jupyter-widgets/controls",
          "model_name": "FloatProgressModel",
          "model_module_version": "1.5.0",
          "state": {
            "_dom_classes": [],
            "_model_module": "@jupyter-widgets/controls",
            "_model_module_version": "1.5.0",
            "_model_name": "FloatProgressModel",
            "_view_count": null,
            "_view_module": "@jupyter-widgets/controls",
            "_view_module_version": "1.5.0",
            "_view_name": "ProgressView",
            "bar_style": "success",
            "description": "",
            "description_tooltip": null,
            "layout": "IPY_MODEL_79beb9795e4d495b9680c8859e71ba80",
            "max": 41,
            "min": 0,
            "orientation": "horizontal",
            "style": "IPY_MODEL_aedfefc61f254b18817ddd2583279f9a",
            "value": 41
          }
        },
        "43c64c4ec6044e26b20ada12a49971b4": {
          "model_module": "@jupyter-widgets/controls",
          "model_name": "HTMLModel",
          "model_module_version": "1.5.0",
          "state": {
            "_dom_classes": [],
            "_model_module": "@jupyter-widgets/controls",
            "_model_module_version": "1.5.0",
            "_model_name": "HTMLModel",
            "_view_count": null,
            "_view_module": "@jupyter-widgets/controls",
            "_view_module_version": "1.5.0",
            "_view_name": "HTMLView",
            "description": "",
            "description_tooltip": null,
            "layout": "IPY_MODEL_8f36224e340c4c87b1acdbb118faf4e2",
            "placeholder": "​",
            "style": "IPY_MODEL_0edef9d36a494968986b00ba95016955",
            "value": " 41/41 [00:00&lt;00:00, 15.92it/s]"
          }
        },
        "757f896b662d498d869ed10e1ec22780": {
          "model_module": "@jupyter-widgets/base",
          "model_name": "LayoutModel",
          "model_module_version": "1.2.0",
          "state": {
            "_model_module": "@jupyter-widgets/base",
            "_model_module_version": "1.2.0",
            "_model_name": "LayoutModel",
            "_view_count": null,
            "_view_module": "@jupyter-widgets/base",
            "_view_module_version": "1.2.0",
            "_view_name": "LayoutView",
            "align_content": null,
            "align_items": null,
            "align_self": null,
            "border": null,
            "bottom": null,
            "display": null,
            "flex": null,
            "flex_flow": null,
            "grid_area": null,
            "grid_auto_columns": null,
            "grid_auto_flow": null,
            "grid_auto_rows": null,
            "grid_column": null,
            "grid_gap": null,
            "grid_row": null,
            "grid_template_areas": null,
            "grid_template_columns": null,
            "grid_template_rows": null,
            "height": null,
            "justify_content": null,
            "justify_items": null,
            "left": null,
            "margin": null,
            "max_height": null,
            "max_width": null,
            "min_height": null,
            "min_width": null,
            "object_fit": null,
            "object_position": null,
            "order": null,
            "overflow": null,
            "overflow_x": null,
            "overflow_y": null,
            "padding": null,
            "right": null,
            "top": null,
            "visibility": null,
            "width": null
          }
        },
        "9434d57c355f4ccc938395221e5177ef": {
          "model_module": "@jupyter-widgets/base",
          "model_name": "LayoutModel",
          "model_module_version": "1.2.0",
          "state": {
            "_model_module": "@jupyter-widgets/base",
            "_model_module_version": "1.2.0",
            "_model_name": "LayoutModel",
            "_view_count": null,
            "_view_module": "@jupyter-widgets/base",
            "_view_module_version": "1.2.0",
            "_view_name": "LayoutView",
            "align_content": null,
            "align_items": null,
            "align_self": null,
            "border": null,
            "bottom": null,
            "display": null,
            "flex": null,
            "flex_flow": null,
            "grid_area": null,
            "grid_auto_columns": null,
            "grid_auto_flow": null,
            "grid_auto_rows": null,
            "grid_column": null,
            "grid_gap": null,
            "grid_row": null,
            "grid_template_areas": null,
            "grid_template_columns": null,
            "grid_template_rows": null,
            "height": null,
            "justify_content": null,
            "justify_items": null,
            "left": null,
            "margin": null,
            "max_height": null,
            "max_width": null,
            "min_height": null,
            "min_width": null,
            "object_fit": null,
            "object_position": null,
            "order": null,
            "overflow": null,
            "overflow_x": null,
            "overflow_y": null,
            "padding": null,
            "right": null,
            "top": null,
            "visibility": null,
            "width": null
          }
        },
        "806d9eca50724d81ae7fb18e9cb6eedf": {
          "model_module": "@jupyter-widgets/controls",
          "model_name": "DescriptionStyleModel",
          "model_module_version": "1.5.0",
          "state": {
            "_model_module": "@jupyter-widgets/controls",
            "_model_module_version": "1.5.0",
            "_model_name": "DescriptionStyleModel",
            "_view_count": null,
            "_view_module": "@jupyter-widgets/base",
            "_view_module_version": "1.2.0",
            "_view_name": "StyleView",
            "description_width": ""
          }
        },
        "79beb9795e4d495b9680c8859e71ba80": {
          "model_module": "@jupyter-widgets/base",
          "model_name": "LayoutModel",
          "model_module_version": "1.2.0",
          "state": {
            "_model_module": "@jupyter-widgets/base",
            "_model_module_version": "1.2.0",
            "_model_name": "LayoutModel",
            "_view_count": null,
            "_view_module": "@jupyter-widgets/base",
            "_view_module_version": "1.2.0",
            "_view_name": "LayoutView",
            "align_content": null,
            "align_items": null,
            "align_self": null,
            "border": null,
            "bottom": null,
            "display": null,
            "flex": null,
            "flex_flow": null,
            "grid_area": null,
            "grid_auto_columns": null,
            "grid_auto_flow": null,
            "grid_auto_rows": null,
            "grid_column": null,
            "grid_gap": null,
            "grid_row": null,
            "grid_template_areas": null,
            "grid_template_columns": null,
            "grid_template_rows": null,
            "height": null,
            "justify_content": null,
            "justify_items": null,
            "left": null,
            "margin": null,
            "max_height": null,
            "max_width": null,
            "min_height": null,
            "min_width": null,
            "object_fit": null,
            "object_position": null,
            "order": null,
            "overflow": null,
            "overflow_x": null,
            "overflow_y": null,
            "padding": null,
            "right": null,
            "top": null,
            "visibility": null,
            "width": null
          }
        },
        "aedfefc61f254b18817ddd2583279f9a": {
          "model_module": "@jupyter-widgets/controls",
          "model_name": "ProgressStyleModel",
          "model_module_version": "1.5.0",
          "state": {
            "_model_module": "@jupyter-widgets/controls",
            "_model_module_version": "1.5.0",
            "_model_name": "ProgressStyleModel",
            "_view_count": null,
            "_view_module": "@jupyter-widgets/base",
            "_view_module_version": "1.2.0",
            "_view_name": "StyleView",
            "bar_color": null,
            "description_width": ""
          }
        },
        "8f36224e340c4c87b1acdbb118faf4e2": {
          "model_module": "@jupyter-widgets/base",
          "model_name": "LayoutModel",
          "model_module_version": "1.2.0",
          "state": {
            "_model_module": "@jupyter-widgets/base",
            "_model_module_version": "1.2.0",
            "_model_name": "LayoutModel",
            "_view_count": null,
            "_view_module": "@jupyter-widgets/base",
            "_view_module_version": "1.2.0",
            "_view_name": "LayoutView",
            "align_content": null,
            "align_items": null,
            "align_self": null,
            "border": null,
            "bottom": null,
            "display": null,
            "flex": null,
            "flex_flow": null,
            "grid_area": null,
            "grid_auto_columns": null,
            "grid_auto_flow": null,
            "grid_auto_rows": null,
            "grid_column": null,
            "grid_gap": null,
            "grid_row": null,
            "grid_template_areas": null,
            "grid_template_columns": null,
            "grid_template_rows": null,
            "height": null,
            "justify_content": null,
            "justify_items": null,
            "left": null,
            "margin": null,
            "max_height": null,
            "max_width": null,
            "min_height": null,
            "min_width": null,
            "object_fit": null,
            "object_position": null,
            "order": null,
            "overflow": null,
            "overflow_x": null,
            "overflow_y": null,
            "padding": null,
            "right": null,
            "top": null,
            "visibility": null,
            "width": null
          }
        },
        "0edef9d36a494968986b00ba95016955": {
          "model_module": "@jupyter-widgets/controls",
          "model_name": "DescriptionStyleModel",
          "model_module_version": "1.5.0",
          "state": {
            "_model_module": "@jupyter-widgets/controls",
            "_model_module_version": "1.5.0",
            "_model_name": "DescriptionStyleModel",
            "_view_count": null,
            "_view_module": "@jupyter-widgets/base",
            "_view_module_version": "1.2.0",
            "_view_name": "StyleView",
            "description_width": ""
          }
        },
        "ef1f63c27ea14e4fab8e01a31ad998d5": {
          "model_module": "@jupyter-widgets/controls",
          "model_name": "HBoxModel",
          "model_module_version": "1.5.0",
          "state": {
            "_dom_classes": [],
            "_model_module": "@jupyter-widgets/controls",
            "_model_module_version": "1.5.0",
            "_model_name": "HBoxModel",
            "_view_count": null,
            "_view_module": "@jupyter-widgets/controls",
            "_view_module_version": "1.5.0",
            "_view_name": "HBoxView",
            "box_style": "",
            "children": [
              "IPY_MODEL_a82f024a72a04235b526208d34400dfd",
              "IPY_MODEL_b369c3c47e1345cab758929e5959207b",
              "IPY_MODEL_688ef5ff690c49c0b40de8f99385eede"
            ],
            "layout": "IPY_MODEL_6e26b687c8cc4635a5ae29babea84ce5"
          }
        },
        "a82f024a72a04235b526208d34400dfd": {
          "model_module": "@jupyter-widgets/controls",
          "model_name": "HTMLModel",
          "model_module_version": "1.5.0",
          "state": {
            "_dom_classes": [],
            "_model_module": "@jupyter-widgets/controls",
            "_model_module_version": "1.5.0",
            "_model_name": "HTMLModel",
            "_view_count": null,
            "_view_module": "@jupyter-widgets/controls",
            "_view_module_version": "1.5.0",
            "_view_name": "HTMLView",
            "description": "",
            "description_tooltip": null,
            "layout": "IPY_MODEL_22bebddc5cf846229e36bcb624c15bc8",
            "placeholder": "​",
            "style": "IPY_MODEL_c2e48dc059644d4dbfd51689f8b21425",
            "value": "Resolving data files: 100%"
          }
        },
        "b369c3c47e1345cab758929e5959207b": {
          "model_module": "@jupyter-widgets/controls",
          "model_name": "FloatProgressModel",
          "model_module_version": "1.5.0",
          "state": {
            "_dom_classes": [],
            "_model_module": "@jupyter-widgets/controls",
            "_model_module_version": "1.5.0",
            "_model_name": "FloatProgressModel",
            "_view_count": null,
            "_view_module": "@jupyter-widgets/controls",
            "_view_module_version": "1.5.0",
            "_view_name": "ProgressView",
            "bar_style": "success",
            "description": "",
            "description_tooltip": null,
            "layout": "IPY_MODEL_a79f2367a21546db8bc294ae8fe845ee",
            "max": 2410,
            "min": 0,
            "orientation": "horizontal",
            "style": "IPY_MODEL_fb4bb55593ce423d99f2833e805c67e9",
            "value": 2410
          }
        },
        "688ef5ff690c49c0b40de8f99385eede": {
          "model_module": "@jupyter-widgets/controls",
          "model_name": "HTMLModel",
          "model_module_version": "1.5.0",
          "state": {
            "_dom_classes": [],
            "_model_module": "@jupyter-widgets/controls",
            "_model_module_version": "1.5.0",
            "_model_name": "HTMLModel",
            "_view_count": null,
            "_view_module": "@jupyter-widgets/controls",
            "_view_module_version": "1.5.0",
            "_view_name": "HTMLView",
            "description": "",
            "description_tooltip": null,
            "layout": "IPY_MODEL_c9d2216b2c224bd5afb6214058f4348d",
            "placeholder": "​",
            "style": "IPY_MODEL_28a8102049494eb290a841042c28d4e5",
            "value": " 2410/2410 [00:00&lt;00:00,  1.88it/s]"
          }
        },
        "6e26b687c8cc4635a5ae29babea84ce5": {
          "model_module": "@jupyter-widgets/base",
          "model_name": "LayoutModel",
          "model_module_version": "1.2.0",
          "state": {
            "_model_module": "@jupyter-widgets/base",
            "_model_module_version": "1.2.0",
            "_model_name": "LayoutModel",
            "_view_count": null,
            "_view_module": "@jupyter-widgets/base",
            "_view_module_version": "1.2.0",
            "_view_name": "LayoutView",
            "align_content": null,
            "align_items": null,
            "align_self": null,
            "border": null,
            "bottom": null,
            "display": null,
            "flex": null,
            "flex_flow": null,
            "grid_area": null,
            "grid_auto_columns": null,
            "grid_auto_flow": null,
            "grid_auto_rows": null,
            "grid_column": null,
            "grid_gap": null,
            "grid_row": null,
            "grid_template_areas": null,
            "grid_template_columns": null,
            "grid_template_rows": null,
            "height": null,
            "justify_content": null,
            "justify_items": null,
            "left": null,
            "margin": null,
            "max_height": null,
            "max_width": null,
            "min_height": null,
            "min_width": null,
            "object_fit": null,
            "object_position": null,
            "order": null,
            "overflow": null,
            "overflow_x": null,
            "overflow_y": null,
            "padding": null,
            "right": null,
            "top": null,
            "visibility": null,
            "width": null
          }
        },
        "22bebddc5cf846229e36bcb624c15bc8": {
          "model_module": "@jupyter-widgets/base",
          "model_name": "LayoutModel",
          "model_module_version": "1.2.0",
          "state": {
            "_model_module": "@jupyter-widgets/base",
            "_model_module_version": "1.2.0",
            "_model_name": "LayoutModel",
            "_view_count": null,
            "_view_module": "@jupyter-widgets/base",
            "_view_module_version": "1.2.0",
            "_view_name": "LayoutView",
            "align_content": null,
            "align_items": null,
            "align_self": null,
            "border": null,
            "bottom": null,
            "display": null,
            "flex": null,
            "flex_flow": null,
            "grid_area": null,
            "grid_auto_columns": null,
            "grid_auto_flow": null,
            "grid_auto_rows": null,
            "grid_column": null,
            "grid_gap": null,
            "grid_row": null,
            "grid_template_areas": null,
            "grid_template_columns": null,
            "grid_template_rows": null,
            "height": null,
            "justify_content": null,
            "justify_items": null,
            "left": null,
            "margin": null,
            "max_height": null,
            "max_width": null,
            "min_height": null,
            "min_width": null,
            "object_fit": null,
            "object_position": null,
            "order": null,
            "overflow": null,
            "overflow_x": null,
            "overflow_y": null,
            "padding": null,
            "right": null,
            "top": null,
            "visibility": null,
            "width": null
          }
        },
        "c2e48dc059644d4dbfd51689f8b21425": {
          "model_module": "@jupyter-widgets/controls",
          "model_name": "DescriptionStyleModel",
          "model_module_version": "1.5.0",
          "state": {
            "_model_module": "@jupyter-widgets/controls",
            "_model_module_version": "1.5.0",
            "_model_name": "DescriptionStyleModel",
            "_view_count": null,
            "_view_module": "@jupyter-widgets/base",
            "_view_module_version": "1.2.0",
            "_view_name": "StyleView",
            "description_width": ""
          }
        },
        "a79f2367a21546db8bc294ae8fe845ee": {
          "model_module": "@jupyter-widgets/base",
          "model_name": "LayoutModel",
          "model_module_version": "1.2.0",
          "state": {
            "_model_module": "@jupyter-widgets/base",
            "_model_module_version": "1.2.0",
            "_model_name": "LayoutModel",
            "_view_count": null,
            "_view_module": "@jupyter-widgets/base",
            "_view_module_version": "1.2.0",
            "_view_name": "LayoutView",
            "align_content": null,
            "align_items": null,
            "align_self": null,
            "border": null,
            "bottom": null,
            "display": null,
            "flex": null,
            "flex_flow": null,
            "grid_area": null,
            "grid_auto_columns": null,
            "grid_auto_flow": null,
            "grid_auto_rows": null,
            "grid_column": null,
            "grid_gap": null,
            "grid_row": null,
            "grid_template_areas": null,
            "grid_template_columns": null,
            "grid_template_rows": null,
            "height": null,
            "justify_content": null,
            "justify_items": null,
            "left": null,
            "margin": null,
            "max_height": null,
            "max_width": null,
            "min_height": null,
            "min_width": null,
            "object_fit": null,
            "object_position": null,
            "order": null,
            "overflow": null,
            "overflow_x": null,
            "overflow_y": null,
            "padding": null,
            "right": null,
            "top": null,
            "visibility": null,
            "width": null
          }
        },
        "fb4bb55593ce423d99f2833e805c67e9": {
          "model_module": "@jupyter-widgets/controls",
          "model_name": "ProgressStyleModel",
          "model_module_version": "1.5.0",
          "state": {
            "_model_module": "@jupyter-widgets/controls",
            "_model_module_version": "1.5.0",
            "_model_name": "ProgressStyleModel",
            "_view_count": null,
            "_view_module": "@jupyter-widgets/base",
            "_view_module_version": "1.2.0",
            "_view_name": "StyleView",
            "bar_color": null,
            "description_width": ""
          }
        },
        "c9d2216b2c224bd5afb6214058f4348d": {
          "model_module": "@jupyter-widgets/base",
          "model_name": "LayoutModel",
          "model_module_version": "1.2.0",
          "state": {
            "_model_module": "@jupyter-widgets/base",
            "_model_module_version": "1.2.0",
            "_model_name": "LayoutModel",
            "_view_count": null,
            "_view_module": "@jupyter-widgets/base",
            "_view_module_version": "1.2.0",
            "_view_name": "LayoutView",
            "align_content": null,
            "align_items": null,
            "align_self": null,
            "border": null,
            "bottom": null,
            "display": null,
            "flex": null,
            "flex_flow": null,
            "grid_area": null,
            "grid_auto_columns": null,
            "grid_auto_flow": null,
            "grid_auto_rows": null,
            "grid_column": null,
            "grid_gap": null,
            "grid_row": null,
            "grid_template_areas": null,
            "grid_template_columns": null,
            "grid_template_rows": null,
            "height": null,
            "justify_content": null,
            "justify_items": null,
            "left": null,
            "margin": null,
            "max_height": null,
            "max_width": null,
            "min_height": null,
            "min_width": null,
            "object_fit": null,
            "object_position": null,
            "order": null,
            "overflow": null,
            "overflow_x": null,
            "overflow_y": null,
            "padding": null,
            "right": null,
            "top": null,
            "visibility": null,
            "width": null
          }
        },
        "28a8102049494eb290a841042c28d4e5": {
          "model_module": "@jupyter-widgets/controls",
          "model_name": "DescriptionStyleModel",
          "model_module_version": "1.5.0",
          "state": {
            "_model_module": "@jupyter-widgets/controls",
            "_model_module_version": "1.5.0",
            "_model_name": "DescriptionStyleModel",
            "_view_count": null,
            "_view_module": "@jupyter-widgets/base",
            "_view_module_version": "1.2.0",
            "_view_name": "StyleView",
            "description_width": ""
          }
        },
        "0d6d4c9b63d14794901a5832483ce224": {
          "model_module": "@jupyter-widgets/controls",
          "model_name": "HBoxModel",
          "model_module_version": "1.5.0",
          "state": {
            "_dom_classes": [],
            "_model_module": "@jupyter-widgets/controls",
            "_model_module_version": "1.5.0",
            "_model_name": "HBoxModel",
            "_view_count": null,
            "_view_module": "@jupyter-widgets/controls",
            "_view_module_version": "1.5.0",
            "_view_name": "HBoxView",
            "box_style": "",
            "children": [
              "IPY_MODEL_7312f9cad63e4228833898f5a6810cd4",
              "IPY_MODEL_ac364f8ef10e4e7abeaa74a372a11dfb",
              "IPY_MODEL_76b24b15b3f04af0ba21abe107386c6e"
            ],
            "layout": "IPY_MODEL_de053ff6a7fc42788d81a8c02b065b95"
          }
        },
        "7312f9cad63e4228833898f5a6810cd4": {
          "model_module": "@jupyter-widgets/controls",
          "model_name": "HTMLModel",
          "model_module_version": "1.5.0",
          "state": {
            "_dom_classes": [],
            "_model_module": "@jupyter-widgets/controls",
            "_model_module_version": "1.5.0",
            "_model_name": "HTMLModel",
            "_view_count": null,
            "_view_module": "@jupyter-widgets/controls",
            "_view_module_version": "1.5.0",
            "_view_name": "HTMLView",
            "description": "",
            "description_tooltip": null,
            "layout": "IPY_MODEL_513c80d726684cb6bab2ee503678eeb8",
            "placeholder": "​",
            "style": "IPY_MODEL_24e9c7b2e76d41218741cdf08ec3cf9c",
            "value": "Resolving data files: 100%"
          }
        },
        "ac364f8ef10e4e7abeaa74a372a11dfb": {
          "model_module": "@jupyter-widgets/controls",
          "model_name": "FloatProgressModel",
          "model_module_version": "1.5.0",
          "state": {
            "_dom_classes": [],
            "_model_module": "@jupyter-widgets/controls",
            "_model_module_version": "1.5.0",
            "_model_name": "FloatProgressModel",
            "_view_count": null,
            "_view_module": "@jupyter-widgets/controls",
            "_view_module_version": "1.5.0",
            "_view_name": "ProgressView",
            "bar_style": "success",
            "description": "",
            "description_tooltip": null,
            "layout": "IPY_MODEL_fddee9571daa45d388262b2e06d2dab5",
            "max": 2410,
            "min": 0,
            "orientation": "horizontal",
            "style": "IPY_MODEL_c16d7ffcfc8d43cea0e5e95e697494f7",
            "value": 2410
          }
        },
        "76b24b15b3f04af0ba21abe107386c6e": {
          "model_module": "@jupyter-widgets/controls",
          "model_name": "HTMLModel",
          "model_module_version": "1.5.0",
          "state": {
            "_dom_classes": [],
            "_model_module": "@jupyter-widgets/controls",
            "_model_module_version": "1.5.0",
            "_model_name": "HTMLModel",
            "_view_count": null,
            "_view_module": "@jupyter-widgets/controls",
            "_view_module_version": "1.5.0",
            "_view_name": "HTMLView",
            "description": "",
            "description_tooltip": null,
            "layout": "IPY_MODEL_5a66ba51c6d94c26abea54519f181f3b",
            "placeholder": "​",
            "style": "IPY_MODEL_518e24f5b83a4910ab33f440946a05d7",
            "value": " 2410/2410 [00:00&lt;00:00, 27129.82it/s]"
          }
        },
        "de053ff6a7fc42788d81a8c02b065b95": {
          "model_module": "@jupyter-widgets/base",
          "model_name": "LayoutModel",
          "model_module_version": "1.2.0",
          "state": {
            "_model_module": "@jupyter-widgets/base",
            "_model_module_version": "1.2.0",
            "_model_name": "LayoutModel",
            "_view_count": null,
            "_view_module": "@jupyter-widgets/base",
            "_view_module_version": "1.2.0",
            "_view_name": "LayoutView",
            "align_content": null,
            "align_items": null,
            "align_self": null,
            "border": null,
            "bottom": null,
            "display": null,
            "flex": null,
            "flex_flow": null,
            "grid_area": null,
            "grid_auto_columns": null,
            "grid_auto_flow": null,
            "grid_auto_rows": null,
            "grid_column": null,
            "grid_gap": null,
            "grid_row": null,
            "grid_template_areas": null,
            "grid_template_columns": null,
            "grid_template_rows": null,
            "height": null,
            "justify_content": null,
            "justify_items": null,
            "left": null,
            "margin": null,
            "max_height": null,
            "max_width": null,
            "min_height": null,
            "min_width": null,
            "object_fit": null,
            "object_position": null,
            "order": null,
            "overflow": null,
            "overflow_x": null,
            "overflow_y": null,
            "padding": null,
            "right": null,
            "top": null,
            "visibility": null,
            "width": null
          }
        },
        "513c80d726684cb6bab2ee503678eeb8": {
          "model_module": "@jupyter-widgets/base",
          "model_name": "LayoutModel",
          "model_module_version": "1.2.0",
          "state": {
            "_model_module": "@jupyter-widgets/base",
            "_model_module_version": "1.2.0",
            "_model_name": "LayoutModel",
            "_view_count": null,
            "_view_module": "@jupyter-widgets/base",
            "_view_module_version": "1.2.0",
            "_view_name": "LayoutView",
            "align_content": null,
            "align_items": null,
            "align_self": null,
            "border": null,
            "bottom": null,
            "display": null,
            "flex": null,
            "flex_flow": null,
            "grid_area": null,
            "grid_auto_columns": null,
            "grid_auto_flow": null,
            "grid_auto_rows": null,
            "grid_column": null,
            "grid_gap": null,
            "grid_row": null,
            "grid_template_areas": null,
            "grid_template_columns": null,
            "grid_template_rows": null,
            "height": null,
            "justify_content": null,
            "justify_items": null,
            "left": null,
            "margin": null,
            "max_height": null,
            "max_width": null,
            "min_height": null,
            "min_width": null,
            "object_fit": null,
            "object_position": null,
            "order": null,
            "overflow": null,
            "overflow_x": null,
            "overflow_y": null,
            "padding": null,
            "right": null,
            "top": null,
            "visibility": null,
            "width": null
          }
        },
        "24e9c7b2e76d41218741cdf08ec3cf9c": {
          "model_module": "@jupyter-widgets/controls",
          "model_name": "DescriptionStyleModel",
          "model_module_version": "1.5.0",
          "state": {
            "_model_module": "@jupyter-widgets/controls",
            "_model_module_version": "1.5.0",
            "_model_name": "DescriptionStyleModel",
            "_view_count": null,
            "_view_module": "@jupyter-widgets/base",
            "_view_module_version": "1.2.0",
            "_view_name": "StyleView",
            "description_width": ""
          }
        },
        "fddee9571daa45d388262b2e06d2dab5": {
          "model_module": "@jupyter-widgets/base",
          "model_name": "LayoutModel",
          "model_module_version": "1.2.0",
          "state": {
            "_model_module": "@jupyter-widgets/base",
            "_model_module_version": "1.2.0",
            "_model_name": "LayoutModel",
            "_view_count": null,
            "_view_module": "@jupyter-widgets/base",
            "_view_module_version": "1.2.0",
            "_view_name": "LayoutView",
            "align_content": null,
            "align_items": null,
            "align_self": null,
            "border": null,
            "bottom": null,
            "display": null,
            "flex": null,
            "flex_flow": null,
            "grid_area": null,
            "grid_auto_columns": null,
            "grid_auto_flow": null,
            "grid_auto_rows": null,
            "grid_column": null,
            "grid_gap": null,
            "grid_row": null,
            "grid_template_areas": null,
            "grid_template_columns": null,
            "grid_template_rows": null,
            "height": null,
            "justify_content": null,
            "justify_items": null,
            "left": null,
            "margin": null,
            "max_height": null,
            "max_width": null,
            "min_height": null,
            "min_width": null,
            "object_fit": null,
            "object_position": null,
            "order": null,
            "overflow": null,
            "overflow_x": null,
            "overflow_y": null,
            "padding": null,
            "right": null,
            "top": null,
            "visibility": null,
            "width": null
          }
        },
        "c16d7ffcfc8d43cea0e5e95e697494f7": {
          "model_module": "@jupyter-widgets/controls",
          "model_name": "ProgressStyleModel",
          "model_module_version": "1.5.0",
          "state": {
            "_model_module": "@jupyter-widgets/controls",
            "_model_module_version": "1.5.0",
            "_model_name": "ProgressStyleModel",
            "_view_count": null,
            "_view_module": "@jupyter-widgets/base",
            "_view_module_version": "1.2.0",
            "_view_name": "StyleView",
            "bar_color": null,
            "description_width": ""
          }
        },
        "5a66ba51c6d94c26abea54519f181f3b": {
          "model_module": "@jupyter-widgets/base",
          "model_name": "LayoutModel",
          "model_module_version": "1.2.0",
          "state": {
            "_model_module": "@jupyter-widgets/base",
            "_model_module_version": "1.2.0",
            "_model_name": "LayoutModel",
            "_view_count": null,
            "_view_module": "@jupyter-widgets/base",
            "_view_module_version": "1.2.0",
            "_view_name": "LayoutView",
            "align_content": null,
            "align_items": null,
            "align_self": null,
            "border": null,
            "bottom": null,
            "display": null,
            "flex": null,
            "flex_flow": null,
            "grid_area": null,
            "grid_auto_columns": null,
            "grid_auto_flow": null,
            "grid_auto_rows": null,
            "grid_column": null,
            "grid_gap": null,
            "grid_row": null,
            "grid_template_areas": null,
            "grid_template_columns": null,
            "grid_template_rows": null,
            "height": null,
            "justify_content": null,
            "justify_items": null,
            "left": null,
            "margin": null,
            "max_height": null,
            "max_width": null,
            "min_height": null,
            "min_width": null,
            "object_fit": null,
            "object_position": null,
            "order": null,
            "overflow": null,
            "overflow_x": null,
            "overflow_y": null,
            "padding": null,
            "right": null,
            "top": null,
            "visibility": null,
            "width": null
          }
        },
        "518e24f5b83a4910ab33f440946a05d7": {
          "model_module": "@jupyter-widgets/controls",
          "model_name": "DescriptionStyleModel",
          "model_module_version": "1.5.0",
          "state": {
            "_model_module": "@jupyter-widgets/controls",
            "_model_module_version": "1.5.0",
            "_model_name": "DescriptionStyleModel",
            "_view_count": null,
            "_view_module": "@jupyter-widgets/base",
            "_view_module_version": "1.2.0",
            "_view_name": "StyleView",
            "description_width": ""
          }
        }
      }
    },
    "accelerator": "GPU"
  },
  "nbformat": 4,
  "nbformat_minor": 5
}